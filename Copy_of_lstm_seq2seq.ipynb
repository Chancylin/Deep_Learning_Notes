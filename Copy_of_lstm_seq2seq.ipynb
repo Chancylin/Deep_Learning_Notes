{
  "nbformat": 4,
  "nbformat_minor": 0,
  "metadata": {
    "colab": {
      "name": "Copy of lstm_seq2seq",
      "provenance": [],
      "collapsed_sections": [],
      "include_colab_link": true
    },
    "kernelspec": {
      "display_name": "Python 3",
      "language": "python",
      "name": "python3"
    },
    "language_info": {
      "codemirror_mode": {
        "name": "ipython",
        "version": 3
      },
      "file_extension": ".py",
      "mimetype": "text/x-python",
      "name": "python",
      "nbconvert_exporter": "python",
      "pygments_lexer": "ipython3",
      "version": "3.7.0"
    }
  },
  "cells": [
    {
      "cell_type": "markdown",
      "metadata": {
        "id": "view-in-github",
        "colab_type": "text"
      },
      "source": [
        "<a href=\"https://colab.research.google.com/github/Chancylin/Deep_Learning_Notes/blob/master/Copy_of_lstm_seq2seq.ipynb\" target=\"_parent\"><img src=\"https://colab.research.google.com/assets/colab-badge.svg\" alt=\"Open In Colab\"/></a>"
      ]
    },
    {
      "cell_type": "markdown",
      "metadata": {
        "colab_type": "text",
        "id": "HFDorkFK1LVS"
      },
      "source": [
        "# Character-level recurrent sequence-to-sequence model\n",
        "\n",
        "**Author:** [fchollet](https://twitter.com/fchollet)<br>\n",
        "**Date created:** 2017/09/29<br>\n",
        "**Last modified:** 2020/04/26<br>\n",
        "**Description:** Character-level recurrent sequence-to-sequence model."
      ]
    },
    {
      "cell_type": "markdown",
      "metadata": {
        "colab_type": "text",
        "id": "QQIszpUj1LVT"
      },
      "source": [
        "## Introduction\n",
        "\n",
        "This example demonstrates how to implement a basic character-level\n",
        "recurrent sequence-to-sequence model. We apply it to translating\n",
        "short English sentences into short French sentences,\n",
        "character-by-character. Note that it is fairly unusual to\n",
        "do character-level machine translation, as word-level\n",
        "models are more common in this domain.\n",
        "\n",
        "**Summary of the algorithm**\n",
        "\n",
        "- We start with input sequences from a domain (e.g. English sentences)\n",
        "    and corresponding target sequences from another domain\n",
        "    (e.g. French sentences).\n",
        "- An encoder LSTM turns input sequences to 2 state vectors\n",
        "    (we keep the last LSTM state and discard the outputs).\n",
        "- A decoder LSTM is trained to turn the target sequences into\n",
        "    the same sequence but offset by one timestep in the future,\n",
        "    a training process called \"teacher forcing\" in this context.\n",
        "    It uses as initial state the state vectors from the encoder.\n",
        "    Effectively, the decoder learns to generate `targets[t+1...]`\n",
        "    given `targets[...t]`, conditioned on the input sequence.\n",
        "- In inference mode, when we want to decode unknown input sequences, we:\n",
        "    - Encode the input sequence into state vectors\n",
        "    - Start with a target sequence of size 1\n",
        "        (just the start-of-sequence character)\n",
        "    - Feed the state vectors and 1-char target sequence\n",
        "        to the decoder to produce predictions for the next character\n",
        "    - Sample the next character using these predictions\n",
        "        (we simply use argmax).\n",
        "    - Append the sampled character to the target sequence\n",
        "    - Repeat until we generate the end-of-sequence character or we\n",
        "        hit the character limit.\n"
      ]
    },
    {
      "cell_type": "markdown",
      "metadata": {
        "colab_type": "text",
        "id": "nzx5Ontc1LVU"
      },
      "source": [
        "## Setup\n"
      ]
    },
    {
      "cell_type": "code",
      "metadata": {
        "colab_type": "code",
        "id": "Hl5Mt8qZ1LVW",
        "colab": {}
      },
      "source": [
        "import numpy as np\n",
        "import tensorflow as tf\n",
        "from tensorflow import keras\n"
      ],
      "execution_count": 0,
      "outputs": []
    },
    {
      "cell_type": "markdown",
      "metadata": {
        "colab_type": "text",
        "id": "FVD-ww2Y1LVa"
      },
      "source": [
        "## Download the data\n"
      ]
    },
    {
      "cell_type": "code",
      "metadata": {
        "colab_type": "code",
        "id": "tT3xEFR11LVb",
        "colab": {
          "base_uri": "https://localhost:8080/",
          "height": 68
        },
        "outputId": "76636dae-8b31-4d78-b24b-7f580bc464f1"
      },
      "source": [
        "!!curl -O http://www.manythings.org/anki/fra-eng.zip\n",
        "!!unzip fra-eng.zip\n"
      ],
      "execution_count": 3,
      "outputs": [
        {
          "output_type": "execute_result",
          "data": {
            "text/plain": [
              "['Archive:  fra-eng.zip',\n",
              " '  inflating: _about.txt              ',\n",
              " '  inflating: fra.txt                 ']"
            ]
          },
          "metadata": {
            "tags": []
          },
          "execution_count": 3
        }
      ]
    },
    {
      "cell_type": "code",
      "metadata": {
        "id": "9TmCr-xR2CJM",
        "colab_type": "code",
        "colab": {
          "base_uri": "https://localhost:8080/",
          "height": 51
        },
        "outputId": "62157e11-3486-4658-c1ef-52a19fc2c031"
      },
      "source": [
        "! ls\n",
        "! pwd"
      ],
      "execution_count": 4,
      "outputs": [
        {
          "output_type": "stream",
          "text": [
            "_about.txt  fra-eng.zip  fra.txt  sample_data\n",
            "/content\n"
          ],
          "name": "stdout"
        }
      ]
    },
    {
      "cell_type": "markdown",
      "metadata": {
        "colab_type": "text",
        "id": "ScF2Tpu_1LVe"
      },
      "source": [
        "## Configuration\n"
      ]
    },
    {
      "cell_type": "code",
      "metadata": {
        "colab_type": "code",
        "id": "JV2rrLEx1LVf",
        "colab": {}
      },
      "source": [
        "batch_size = 64  # Batch size for training.\n",
        "epochs = 100  # Number of epochs to train for.\n",
        "latent_dim = 256  # Latent dimensionality of the encoding space.\n",
        "num_samples = 10000  # Number of samples to train on.\n",
        "# Path to the data txt file on disk.\n",
        "data_path = \"fra.txt\"\n"
      ],
      "execution_count": 0,
      "outputs": []
    },
    {
      "cell_type": "markdown",
      "metadata": {
        "colab_type": "text",
        "id": "iLNSi75y1LVl"
      },
      "source": [
        "## Prepare the data\n"
      ]
    },
    {
      "cell_type": "code",
      "metadata": {
        "id": "GLuL6HGW3Rg2",
        "colab_type": "code",
        "colab": {}
      },
      "source": [
        "# Vectorize the data.\n",
        "input_texts = []\n",
        "target_texts = []\n",
        "input_characters = set()\n",
        "target_characters = set()\n",
        "with open(data_path, \"r\", encoding=\"utf-8\") as f:\n",
        "    lines = f.read().split(\"\\n\")"
      ],
      "execution_count": 0,
      "outputs": []
    },
    {
      "cell_type": "code",
      "metadata": {
        "id": "IDvJWxW83Uv_",
        "colab_type": "code",
        "colab": {
          "base_uri": "https://localhost:8080/",
          "height": 68
        },
        "outputId": "f3fb60b3-88a8-4799-a4cd-4b81c1a1b901"
      },
      "source": [
        "print(len(lines))\n",
        "print(lines[0])\n",
        "lines[1]"
      ],
      "execution_count": 7,
      "outputs": [
        {
          "output_type": "stream",
          "text": [
            "175624\n",
            "Go.\tVa !\tCC-BY 2.0 (France) Attribution: tatoeba.org #2877272 (CM) & #1158250 (Wittydev)\n"
          ],
          "name": "stdout"
        },
        {
          "output_type": "execute_result",
          "data": {
            "text/plain": [
              "'Hi.\\tSalut !\\tCC-BY 2.0 (France) Attribution: tatoeba.org #538123 (CM) & #509819 (Aiji)'"
            ]
          },
          "metadata": {
            "tags": []
          },
          "execution_count": 7
        }
      ]
    },
    {
      "cell_type": "code",
      "metadata": {
        "colab_type": "code",
        "id": "DkHHXu6i1LVn",
        "colab": {
          "base_uri": "https://localhost:8080/",
          "height": 102
        },
        "outputId": "10dfe84c-4d9b-47af-e05e-69469d2b80c8"
      },
      "source": [
        "\n",
        "for line in lines[: min(num_samples, len(lines) - 1)]:\n",
        "    # split by tab to get the English and French for every input sentence\n",
        "    input_text, target_text, _ = line.split(\"\\t\")\n",
        "    # We use \"tab\" as the \"start sequence\" character\n",
        "    # for the targets, and \"\\n\" as \"end sequence\" character.\n",
        "    target_text = \"\\t\" + target_text + \"\\n\"\n",
        "    input_texts.append(input_text)\n",
        "    target_texts.append(target_text)\n",
        "    for char in input_text:\n",
        "        if char not in input_characters:\n",
        "            input_characters.add(char)\n",
        "    for char in target_text:\n",
        "        if char not in target_characters:\n",
        "            target_characters.add(char)\n",
        "\n",
        "input_characters = sorted(list(input_characters))\n",
        "target_characters = sorted(list(target_characters))\n",
        "# lcx: tokens are the unique charactres\n",
        "num_encoder_tokens = len(input_characters)\n",
        "num_decoder_tokens = len(target_characters)\n",
        "# lcx: get the max length of the sentence \n",
        "max_encoder_seq_length = max([len(txt) for txt in input_texts])\n",
        "max_decoder_seq_length = max([len(txt) for txt in target_texts])\n",
        "\n",
        "print(\"Number of samples:\", len(input_texts))\n",
        "print(\"Number of unique input tokens:\", num_encoder_tokens)\n",
        "print(\"Number of unique output tokens:\", num_decoder_tokens)\n",
        "print(\"Max sequence length for inputs:\", max_encoder_seq_length)\n",
        "print(\"Max sequence length for outputs:\", max_decoder_seq_length)\n",
        "\n"
      ],
      "execution_count": 8,
      "outputs": [
        {
          "output_type": "stream",
          "text": [
            "Number of samples: 10000\n",
            "Number of unique input tokens: 71\n",
            "Number of unique output tokens: 93\n",
            "Max sequence length for inputs: 16\n",
            "Max sequence length for outputs: 59\n"
          ],
          "name": "stdout"
        }
      ]
    },
    {
      "cell_type": "code",
      "metadata": {
        "id": "wUU9X7eM4bFE",
        "colab_type": "code",
        "colab": {}
      },
      "source": [
        "# lcx: build the dictionary from enumerate, very effective coding\n",
        "input_token_index = dict([(char, i) for i, char in enumerate(input_characters)])\n",
        "target_token_index = dict([(char, i) for i, char in enumerate(target_characters)])"
      ],
      "execution_count": 0,
      "outputs": []
    },
    {
      "cell_type": "code",
      "metadata": {
        "id": "pd83Z8047_6P",
        "colab_type": "code",
        "colab": {
          "base_uri": "https://localhost:8080/",
          "height": 68
        },
        "outputId": "70a03e1c-005a-40c4-82ff-2f5a5d077636"
      },
      "source": [
        "print(target_token_index[\" \"])\n",
        "print(target_token_index[\"\\t\"])\n",
        "print(target_token_index[\"\\n\"])"
      ],
      "execution_count": 10,
      "outputs": [
        {
          "output_type": "stream",
          "text": [
            "2\n",
            "0\n",
            "1\n"
          ],
          "name": "stdout"
        }
      ]
    },
    {
      "cell_type": "code",
      "metadata": {
        "id": "Iben34OY4glq",
        "colab_type": "code",
        "colab": {}
      },
      "source": [
        "# lcx: number of instances, max_seq_length, number_tokens\n",
        "\n",
        "encoder_input_data = np.zeros(\n",
        "    (len(input_texts), max_encoder_seq_length, num_encoder_tokens), dtype=\"float32\"\n",
        ")\n",
        "decoder_input_data = np.zeros(\n",
        "    (len(input_texts), max_decoder_seq_length, num_decoder_tokens), dtype=\"float32\"\n",
        ")\n",
        "decoder_target_data = np.zeros(\n",
        "    (len(input_texts), max_decoder_seq_length, num_decoder_tokens), dtype=\"float32\"\n",
        ")\n",
        "\n",
        "for i, (input_text, target_text) in enumerate(zip(input_texts, target_texts)):\n",
        "    # lcx: this is actually an one-hot-encoding for the sentence \n",
        "    for t, char in enumerate(input_text):\n",
        "        encoder_input_data[i, t, input_token_index[char]] = 1.0\n",
        "    encoder_input_data[i, t + 1 :, input_token_index[\" \"]] = 1.0\n",
        "    \n",
        "    for t, char in enumerate(target_text):\n",
        "        # decoder_target_data is ahead of decoder_input_data by one timestep\n",
        "        decoder_input_data[i, t, target_token_index[char]] = 1.0\n",
        "        if t > 0:\n",
        "            # decoder_target_data will be ahead by one timestep\n",
        "            # and will not include the start character.\n",
        "            decoder_target_data[i, t - 1, target_token_index[char]] = 1.0\n",
        "    decoder_input_data[i, t + 1 :, target_token_index[\" \"]] = 1.0\n",
        "    decoder_target_data[i, t:, target_token_index[\" \"]] = 1.0"
      ],
      "execution_count": 0,
      "outputs": []
    },
    {
      "cell_type": "code",
      "metadata": {
        "id": "yBJAvV4q8Sw2",
        "colab_type": "code",
        "colab": {
          "base_uri": "https://localhost:8080/",
          "height": 136
        },
        "outputId": "36c71a60-61b4-42e6-c4b3-6c9f5544192f"
      },
      "source": [
        "decoder_input_data[0]"
      ],
      "execution_count": 12,
      "outputs": [
        {
          "output_type": "execute_result",
          "data": {
            "text/plain": [
              "array([[1., 0., 0., ..., 0., 0., 0.],\n",
              "       [0., 0., 0., ..., 0., 0., 0.],\n",
              "       [0., 0., 0., ..., 0., 0., 0.],\n",
              "       ...,\n",
              "       [0., 0., 1., ..., 0., 0., 0.],\n",
              "       [0., 0., 1., ..., 0., 0., 0.],\n",
              "       [0., 0., 1., ..., 0., 0., 0.]], dtype=float32)"
            ]
          },
          "metadata": {
            "tags": []
          },
          "execution_count": 12
        }
      ]
    },
    {
      "cell_type": "code",
      "metadata": {
        "id": "nh1Do9rt8mJO",
        "colab_type": "code",
        "colab": {
          "base_uri": "https://localhost:8080/",
          "height": 136
        },
        "outputId": "3b3b6628-9089-4d29-b468-b8955eaebedb"
      },
      "source": [
        "decoder_target_data[0]"
      ],
      "execution_count": 13,
      "outputs": [
        {
          "output_type": "execute_result",
          "data": {
            "text/plain": [
              "array([[0., 0., 0., ..., 0., 0., 0.],\n",
              "       [0., 0., 0., ..., 0., 0., 0.],\n",
              "       [0., 0., 1., ..., 0., 0., 0.],\n",
              "       ...,\n",
              "       [0., 0., 1., ..., 0., 0., 0.],\n",
              "       [0., 0., 1., ..., 0., 0., 0.],\n",
              "       [0., 0., 1., ..., 0., 0., 0.]], dtype=float32)"
            ]
          },
          "metadata": {
            "tags": []
          },
          "execution_count": 13
        }
      ]
    },
    {
      "cell_type": "code",
      "metadata": {
        "id": "DlZRI33H82Xp",
        "colab_type": "code",
        "colab": {
          "base_uri": "https://localhost:8080/",
          "height": 578
        },
        "outputId": "5dfc4cf8-2da2-4e29-eff0-a5cf799050ac"
      },
      "source": [
        "# lcx: check the time step shift\n",
        "for i in [0,1,2]:\n",
        "  print(\"=\"*10, \"time step \"+ str(i), \"=\"*10)\n",
        "  print(\"deconder input\")\n",
        "  print(decoder_input_data[0][i])\n",
        "  print(\"deconder target\")\n",
        "  print(decoder_target_data[0][i])"
      ],
      "execution_count": 14,
      "outputs": [
        {
          "output_type": "stream",
          "text": [
            "========== time step 0 ==========\n",
            "deconder input\n",
            "[1. 0. 0. 0. 0. 0. 0. 0. 0. 0. 0. 0. 0. 0. 0. 0. 0. 0. 0. 0. 0. 0. 0. 0.\n",
            " 0. 0. 0. 0. 0. 0. 0. 0. 0. 0. 0. 0. 0. 0. 0. 0. 0. 0. 0. 0. 0. 0. 0. 0.\n",
            " 0. 0. 0. 0. 0. 0. 0. 0. 0. 0. 0. 0. 0. 0. 0. 0. 0. 0. 0. 0. 0. 0. 0. 0.\n",
            " 0. 0. 0. 0. 0. 0. 0. 0. 0. 0. 0. 0. 0. 0. 0. 0. 0. 0. 0. 0. 0.]\n",
            "deconder target\n",
            "[0. 0. 0. 0. 0. 0. 0. 0. 0. 0. 0. 0. 0. 0. 0. 0. 0. 0. 0. 0. 0. 0. 0. 0.\n",
            " 0. 0. 0. 0. 0. 0. 0. 0. 0. 0. 0. 0. 0. 0. 0. 0. 0. 0. 0. 1. 0. 0. 0. 0.\n",
            " 0. 0. 0. 0. 0. 0. 0. 0. 0. 0. 0. 0. 0. 0. 0. 0. 0. 0. 0. 0. 0. 0. 0. 0.\n",
            " 0. 0. 0. 0. 0. 0. 0. 0. 0. 0. 0. 0. 0. 0. 0. 0. 0. 0. 0. 0. 0.]\n",
            "========== time step 1 ==========\n",
            "deconder input\n",
            "[0. 0. 0. 0. 0. 0. 0. 0. 0. 0. 0. 0. 0. 0. 0. 0. 0. 0. 0. 0. 0. 0. 0. 0.\n",
            " 0. 0. 0. 0. 0. 0. 0. 0. 0. 0. 0. 0. 0. 0. 0. 0. 0. 0. 0. 1. 0. 0. 0. 0.\n",
            " 0. 0. 0. 0. 0. 0. 0. 0. 0. 0. 0. 0. 0. 0. 0. 0. 0. 0. 0. 0. 0. 0. 0. 0.\n",
            " 0. 0. 0. 0. 0. 0. 0. 0. 0. 0. 0. 0. 0. 0. 0. 0. 0. 0. 0. 0. 0.]\n",
            "deconder target\n",
            "[0. 0. 0. 0. 0. 0. 0. 0. 0. 0. 0. 0. 0. 0. 0. 0. 0. 0. 0. 0. 0. 0. 0. 0.\n",
            " 0. 0. 0. 0. 0. 0. 0. 0. 0. 0. 0. 0. 0. 0. 0. 0. 0. 0. 0. 0. 0. 1. 0. 0.\n",
            " 0. 0. 0. 0. 0. 0. 0. 0. 0. 0. 0. 0. 0. 0. 0. 0. 0. 0. 0. 0. 0. 0. 0. 0.\n",
            " 0. 0. 0. 0. 0. 0. 0. 0. 0. 0. 0. 0. 0. 0. 0. 0. 0. 0. 0. 0. 0.]\n",
            "========== time step 2 ==========\n",
            "deconder input\n",
            "[0. 0. 0. 0. 0. 0. 0. 0. 0. 0. 0. 0. 0. 0. 0. 0. 0. 0. 0. 0. 0. 0. 0. 0.\n",
            " 0. 0. 0. 0. 0. 0. 0. 0. 0. 0. 0. 0. 0. 0. 0. 0. 0. 0. 0. 0. 0. 1. 0. 0.\n",
            " 0. 0. 0. 0. 0. 0. 0. 0. 0. 0. 0. 0. 0. 0. 0. 0. 0. 0. 0. 0. 0. 0. 0. 0.\n",
            " 0. 0. 0. 0. 0. 0. 0. 0. 0. 0. 0. 0. 0. 0. 0. 0. 0. 0. 0. 0. 0.]\n",
            "deconder target\n",
            "[0. 0. 1. 0. 0. 0. 0. 0. 0. 0. 0. 0. 0. 0. 0. 0. 0. 0. 0. 0. 0. 0. 0. 0.\n",
            " 0. 0. 0. 0. 0. 0. 0. 0. 0. 0. 0. 0. 0. 0. 0. 0. 0. 0. 0. 0. 0. 0. 0. 0.\n",
            " 0. 0. 0. 0. 0. 0. 0. 0. 0. 0. 0. 0. 0. 0. 0. 0. 0. 0. 0. 0. 0. 0. 0. 0.\n",
            " 0. 0. 0. 0. 0. 0. 0. 0. 0. 0. 0. 0. 0. 0. 0. 0. 0. 0. 0. 0. 0.]\n"
          ],
          "name": "stdout"
        }
      ]
    },
    {
      "cell_type": "markdown",
      "metadata": {
        "colab_type": "text",
        "id": "oVvscmrz1LVt"
      },
      "source": [
        "## Build the model\n"
      ]
    },
    {
      "cell_type": "code",
      "metadata": {
        "colab_type": "code",
        "id": "VA09BXgd1LVu",
        "colab": {}
      },
      "source": [
        "# Define an input sequence and process it.\n",
        "encoder_inputs = keras.Input(shape=(None, num_encoder_tokens))\n",
        "encoder = keras.layers.LSTM(latent_dim, return_state=True)\n",
        "encoder_outputs, state_h, state_c = encoder(encoder_inputs)\n",
        "\n",
        "# We discard `encoder_outputs` and only keep the states.\n",
        "encoder_states = [state_h, state_c]\n",
        "\n",
        "# Set up the decoder, using `encoder_states` as initial state.\n",
        "decoder_inputs = keras.Input(shape=(None, num_decoder_tokens))\n",
        "\n",
        "# We set up our decoder to return full output sequences,\n",
        "# and to return internal states as well. We don't use the\n",
        "# return states in the training model, but we will use them in inference.\n",
        "decoder_lstm = keras.layers.LSTM(latent_dim, return_sequences=True, return_state=True)\n",
        "decoder_outputs, _, _ = decoder_lstm(decoder_inputs, initial_state=encoder_states)\n",
        "decoder_dense = keras.layers.Dense(num_decoder_tokens, activation=\"softmax\")\n",
        "decoder_outputs = decoder_dense(decoder_outputs)\n",
        "\n",
        "# Define the model that will turn\n",
        "# `encoder_input_data` & `decoder_input_data` into `decoder_target_data`\n",
        "model = keras.Model([encoder_inputs, decoder_inputs], decoder_outputs)\n"
      ],
      "execution_count": 0,
      "outputs": []
    },
    {
      "cell_type": "code",
      "metadata": {
        "id": "D0dHRuma9pzJ",
        "colab_type": "code",
        "colab": {
          "base_uri": "https://localhost:8080/",
          "height": 357
        },
        "outputId": "0d243dfe-b1aa-4c72-b88d-403e39853c90"
      },
      "source": [
        "model.summary()"
      ],
      "execution_count": 16,
      "outputs": [
        {
          "output_type": "stream",
          "text": [
            "Model: \"model\"\n",
            "__________________________________________________________________________________________________\n",
            "Layer (type)                    Output Shape         Param #     Connected to                     \n",
            "==================================================================================================\n",
            "input_1 (InputLayer)            [(None, None, 71)]   0                                            \n",
            "__________________________________________________________________________________________________\n",
            "input_2 (InputLayer)            [(None, None, 93)]   0                                            \n",
            "__________________________________________________________________________________________________\n",
            "lstm (LSTM)                     [(None, 256), (None, 335872      input_1[0][0]                    \n",
            "__________________________________________________________________________________________________\n",
            "lstm_1 (LSTM)                   [(None, None, 256),  358400      input_2[0][0]                    \n",
            "                                                                 lstm[0][1]                       \n",
            "                                                                 lstm[0][2]                       \n",
            "__________________________________________________________________________________________________\n",
            "dense (Dense)                   (None, None, 93)     23901       lstm_1[0][0]                     \n",
            "==================================================================================================\n",
            "Total params: 718,173\n",
            "Trainable params: 718,173\n",
            "Non-trainable params: 0\n",
            "__________________________________________________________________________________________________\n"
          ],
          "name": "stdout"
        }
      ]
    },
    {
      "cell_type": "code",
      "metadata": {
        "id": "BsqIL10F9-h3",
        "colab_type": "code",
        "colab": {
          "base_uri": "https://localhost:8080/",
          "height": 422
        },
        "outputId": "ed912e31-ede4-4fe4-e9a5-3b8ba6b05ecf"
      },
      "source": [
        "tf.keras.utils.plot_model(model, to_file=\"seq2seq_model.png\", show_shapes=True)"
      ],
      "execution_count": 17,
      "outputs": [
        {
          "output_type": "execute_result",
          "data": {
            "image/png": "[encoded data removed]",
            "text/plain": [
              "<IPython.core.display.Image object>"
            ]
          },
          "metadata": {
            "tags": []
          },
          "execution_count": 17
        }
      ]
    },
    {
      "cell_type": "markdown",
      "metadata": {
        "colab_type": "text",
        "id": "yenHgMOn1LVw"
      },
      "source": [
        "## Train the model\n"
      ]
    },
    {
      "cell_type": "code",
      "metadata": {
        "colab_type": "code",
        "id": "3vpxmx9K1LVz",
        "colab": {
          "base_uri": "https://localhost:8080/",
          "height": 1000
        },
        "outputId": "46236edb-0d82-447b-eb24-62fa82a02a8f"
      },
      "source": [
        "model.compile(\n",
        "    optimizer=\"rmsprop\", loss=\"categorical_crossentropy\", metrics=[\"accuracy\"]\n",
        ")\n",
        "model.fit(\n",
        "    [encoder_input_data, decoder_input_data],\n",
        "    decoder_target_data,\n",
        "    batch_size=batch_size,\n",
        "    epochs=epochs,\n",
        "    validation_split=0.2,\n",
        ")\n",
        "# Save model\n",
        "model.save(\"s2s\")\n"
      ],
      "execution_count": 18,
      "outputs": [
        {
          "output_type": "stream",
          "text": [
            "Epoch 1/100\n",
            "125/125 [==============================] - 2s 18ms/step - loss: 1.1712 - accuracy: 0.7248 - val_loss: 1.0656 - val_accuracy: 0.7093\n",
            "Epoch 2/100\n",
            "125/125 [==============================] - 2s 13ms/step - loss: 0.8472 - accuracy: 0.7713 - val_loss: 0.8379 - val_accuracy: 0.7661\n",
            "Epoch 3/100\n",
            "125/125 [==============================] - 2s 13ms/step - loss: 0.6771 - accuracy: 0.8079 - val_loss: 0.7212 - val_accuracy: 0.7887\n",
            "Epoch 4/100\n",
            "125/125 [==============================] - 2s 13ms/step - loss: 0.5956 - accuracy: 0.8268 - val_loss: 0.6576 - val_accuracy: 0.8071\n",
            "Epoch 5/100\n",
            "125/125 [==============================] - 2s 13ms/step - loss: 0.5468 - accuracy: 0.8400 - val_loss: 0.6100 - val_accuracy: 0.8221\n",
            "Epoch 6/100\n",
            "125/125 [==============================] - 2s 13ms/step - loss: 0.5110 - accuracy: 0.8501 - val_loss: 0.5808 - val_accuracy: 0.8289\n",
            "Epoch 7/100\n",
            "125/125 [==============================] - 2s 13ms/step - loss: 0.4824 - accuracy: 0.8577 - val_loss: 0.5608 - val_accuracy: 0.8339\n",
            "Epoch 8/100\n",
            "125/125 [==============================] - 2s 13ms/step - loss: 0.4577 - accuracy: 0.8641 - val_loss: 0.5356 - val_accuracy: 0.8424\n",
            "Epoch 9/100\n",
            "125/125 [==============================] - 2s 13ms/step - loss: 0.4370 - accuracy: 0.8700 - val_loss: 0.5139 - val_accuracy: 0.8478\n",
            "Epoch 10/100\n",
            "125/125 [==============================] - 2s 13ms/step - loss: 0.4179 - accuracy: 0.8751 - val_loss: 0.4981 - val_accuracy: 0.8521\n",
            "Epoch 11/100\n",
            "125/125 [==============================] - 2s 13ms/step - loss: 0.4002 - accuracy: 0.8804 - val_loss: 0.4871 - val_accuracy: 0.8558\n",
            "Epoch 12/100\n",
            "125/125 [==============================] - 2s 13ms/step - loss: 0.3843 - accuracy: 0.8847 - val_loss: 0.4782 - val_accuracy: 0.8587\n",
            "Epoch 13/100\n",
            "125/125 [==============================] - 2s 13ms/step - loss: 0.3690 - accuracy: 0.8892 - val_loss: 0.4704 - val_accuracy: 0.8607\n",
            "Epoch 14/100\n",
            "125/125 [==============================] - 2s 13ms/step - loss: 0.3549 - accuracy: 0.8930 - val_loss: 0.4636 - val_accuracy: 0.8634\n",
            "Epoch 15/100\n",
            "125/125 [==============================] - 2s 13ms/step - loss: 0.3417 - accuracy: 0.8974 - val_loss: 0.4572 - val_accuracy: 0.8651\n",
            "Epoch 16/100\n",
            "125/125 [==============================] - 2s 13ms/step - loss: 0.3292 - accuracy: 0.9011 - val_loss: 0.4534 - val_accuracy: 0.8664\n",
            "Epoch 17/100\n",
            "125/125 [==============================] - 2s 13ms/step - loss: 0.3171 - accuracy: 0.9045 - val_loss: 0.4503 - val_accuracy: 0.8675\n",
            "Epoch 18/100\n",
            "125/125 [==============================] - 2s 13ms/step - loss: 0.3059 - accuracy: 0.9077 - val_loss: 0.4470 - val_accuracy: 0.8688\n",
            "Epoch 19/100\n",
            "125/125 [==============================] - 2s 13ms/step - loss: 0.2949 - accuracy: 0.9112 - val_loss: 0.4484 - val_accuracy: 0.8688\n",
            "Epoch 20/100\n",
            "125/125 [==============================] - 2s 13ms/step - loss: 0.2846 - accuracy: 0.9142 - val_loss: 0.4448 - val_accuracy: 0.8703\n",
            "Epoch 21/100\n",
            "125/125 [==============================] - 2s 13ms/step - loss: 0.2751 - accuracy: 0.9167 - val_loss: 0.4440 - val_accuracy: 0.8707\n",
            "Epoch 22/100\n",
            "125/125 [==============================] - 2s 13ms/step - loss: 0.2657 - accuracy: 0.9194 - val_loss: 0.4420 - val_accuracy: 0.8724\n",
            "Epoch 23/100\n",
            "125/125 [==============================] - 2s 13ms/step - loss: 0.2563 - accuracy: 0.9228 - val_loss: 0.4411 - val_accuracy: 0.8729\n",
            "Epoch 24/100\n",
            "125/125 [==============================] - 2s 13ms/step - loss: 0.2485 - accuracy: 0.9246 - val_loss: 0.4401 - val_accuracy: 0.8740\n",
            "Epoch 25/100\n",
            "125/125 [==============================] - 2s 13ms/step - loss: 0.2398 - accuracy: 0.9271 - val_loss: 0.4463 - val_accuracy: 0.8732\n",
            "Epoch 26/100\n",
            "125/125 [==============================] - 2s 13ms/step - loss: 0.2323 - accuracy: 0.9293 - val_loss: 0.4407 - val_accuracy: 0.8746\n",
            "Epoch 27/100\n",
            "125/125 [==============================] - 2s 13ms/step - loss: 0.2249 - accuracy: 0.9315 - val_loss: 0.4427 - val_accuracy: 0.8755\n",
            "Epoch 28/100\n",
            "125/125 [==============================] - 2s 13ms/step - loss: 0.2175 - accuracy: 0.9338 - val_loss: 0.4432 - val_accuracy: 0.8766\n",
            "Epoch 29/100\n",
            "125/125 [==============================] - 2s 13ms/step - loss: 0.2109 - accuracy: 0.9357 - val_loss: 0.4498 - val_accuracy: 0.8752\n",
            "Epoch 30/100\n",
            "125/125 [==============================] - 2s 13ms/step - loss: 0.2042 - accuracy: 0.9379 - val_loss: 0.4517 - val_accuracy: 0.8756\n",
            "Epoch 31/100\n",
            "125/125 [==============================] - 2s 13ms/step - loss: 0.1977 - accuracy: 0.9397 - val_loss: 0.4531 - val_accuracy: 0.8756\n",
            "Epoch 32/100\n",
            "125/125 [==============================] - 2s 13ms/step - loss: 0.1919 - accuracy: 0.9414 - val_loss: 0.4520 - val_accuracy: 0.8772\n",
            "Epoch 33/100\n",
            "125/125 [==============================] - 2s 13ms/step - loss: 0.1860 - accuracy: 0.9431 - val_loss: 0.4606 - val_accuracy: 0.8757\n",
            "Epoch 34/100\n",
            "125/125 [==============================] - 2s 13ms/step - loss: 0.1802 - accuracy: 0.9451 - val_loss: 0.4646 - val_accuracy: 0.8754\n",
            "Epoch 35/100\n",
            "125/125 [==============================] - 2s 13ms/step - loss: 0.1747 - accuracy: 0.9465 - val_loss: 0.4671 - val_accuracy: 0.8764\n",
            "Epoch 36/100\n",
            "125/125 [==============================] - 2s 13ms/step - loss: 0.1701 - accuracy: 0.9481 - val_loss: 0.4702 - val_accuracy: 0.8753\n",
            "Epoch 37/100\n",
            "125/125 [==============================] - 2s 13ms/step - loss: 0.1650 - accuracy: 0.9494 - val_loss: 0.4748 - val_accuracy: 0.8759\n",
            "Epoch 38/100\n",
            "125/125 [==============================] - 2s 13ms/step - loss: 0.1605 - accuracy: 0.9509 - val_loss: 0.4798 - val_accuracy: 0.8757\n",
            "Epoch 39/100\n",
            "125/125 [==============================] - 2s 13ms/step - loss: 0.1557 - accuracy: 0.9523 - val_loss: 0.4835 - val_accuracy: 0.8764\n",
            "Epoch 40/100\n",
            "125/125 [==============================] - 2s 13ms/step - loss: 0.1515 - accuracy: 0.9535 - val_loss: 0.4896 - val_accuracy: 0.8759\n",
            "Epoch 41/100\n",
            "125/125 [==============================] - 2s 13ms/step - loss: 0.1473 - accuracy: 0.9545 - val_loss: 0.4896 - val_accuracy: 0.8765\n",
            "Epoch 42/100\n",
            "125/125 [==============================] - 2s 13ms/step - loss: 0.1434 - accuracy: 0.9559 - val_loss: 0.4986 - val_accuracy: 0.8763\n",
            "Epoch 43/100\n",
            "125/125 [==============================] - 2s 13ms/step - loss: 0.1397 - accuracy: 0.9571 - val_loss: 0.5001 - val_accuracy: 0.8757\n",
            "Epoch 44/100\n",
            "125/125 [==============================] - 2s 13ms/step - loss: 0.1363 - accuracy: 0.9579 - val_loss: 0.5020 - val_accuracy: 0.8774\n",
            "Epoch 45/100\n",
            "125/125 [==============================] - 2s 13ms/step - loss: 0.1324 - accuracy: 0.9592 - val_loss: 0.5089 - val_accuracy: 0.8761\n",
            "Epoch 46/100\n",
            "125/125 [==============================] - 2s 13ms/step - loss: 0.1292 - accuracy: 0.9599 - val_loss: 0.5171 - val_accuracy: 0.8747\n",
            "Epoch 47/100\n",
            "125/125 [==============================] - 2s 13ms/step - loss: 0.1259 - accuracy: 0.9611 - val_loss: 0.5180 - val_accuracy: 0.8753\n",
            "Epoch 48/100\n",
            "125/125 [==============================] - 2s 13ms/step - loss: 0.1227 - accuracy: 0.9621 - val_loss: 0.5171 - val_accuracy: 0.8764\n",
            "Epoch 49/100\n",
            "125/125 [==============================] - 2s 13ms/step - loss: 0.1198 - accuracy: 0.9627 - val_loss: 0.5265 - val_accuracy: 0.8746\n",
            "Epoch 50/100\n",
            "125/125 [==============================] - 2s 13ms/step - loss: 0.1170 - accuracy: 0.9637 - val_loss: 0.5279 - val_accuracy: 0.8756\n",
            "Epoch 51/100\n",
            "125/125 [==============================] - 2s 13ms/step - loss: 0.1142 - accuracy: 0.9645 - val_loss: 0.5374 - val_accuracy: 0.8751\n",
            "Epoch 52/100\n",
            "125/125 [==============================] - 2s 13ms/step - loss: 0.1112 - accuracy: 0.9653 - val_loss: 0.5410 - val_accuracy: 0.8738\n",
            "Epoch 53/100\n",
            "125/125 [==============================] - 2s 13ms/step - loss: 0.1091 - accuracy: 0.9661 - val_loss: 0.5444 - val_accuracy: 0.8753\n",
            "Epoch 54/100\n",
            "125/125 [==============================] - 2s 13ms/step - loss: 0.1066 - accuracy: 0.9666 - val_loss: 0.5520 - val_accuracy: 0.8742\n",
            "Epoch 55/100\n",
            "125/125 [==============================] - 2s 13ms/step - loss: 0.1042 - accuracy: 0.9673 - val_loss: 0.5553 - val_accuracy: 0.8757\n",
            "Epoch 56/100\n",
            "125/125 [==============================] - 2s 13ms/step - loss: 0.1019 - accuracy: 0.9680 - val_loss: 0.5524 - val_accuracy: 0.8748\n",
            "Epoch 57/100\n",
            "125/125 [==============================] - 2s 13ms/step - loss: 0.0996 - accuracy: 0.9688 - val_loss: 0.5598 - val_accuracy: 0.8747\n",
            "Epoch 58/100\n",
            "125/125 [==============================] - 2s 13ms/step - loss: 0.0975 - accuracy: 0.9693 - val_loss: 0.5619 - val_accuracy: 0.8747\n",
            "Epoch 59/100\n",
            "125/125 [==============================] - 2s 13ms/step - loss: 0.0953 - accuracy: 0.9699 - val_loss: 0.5667 - val_accuracy: 0.8752\n",
            "Epoch 60/100\n",
            "125/125 [==============================] - 2s 13ms/step - loss: 0.0934 - accuracy: 0.9706 - val_loss: 0.5695 - val_accuracy: 0.8747\n",
            "Epoch 61/100\n",
            "125/125 [==============================] - 2s 13ms/step - loss: 0.0915 - accuracy: 0.9709 - val_loss: 0.5758 - val_accuracy: 0.8749\n",
            "Epoch 62/100\n",
            "125/125 [==============================] - 2s 13ms/step - loss: 0.0897 - accuracy: 0.9716 - val_loss: 0.5835 - val_accuracy: 0.8744\n",
            "Epoch 63/100\n",
            "125/125 [==============================] - 2s 13ms/step - loss: 0.0879 - accuracy: 0.9721 - val_loss: 0.5878 - val_accuracy: 0.8749\n",
            "Epoch 64/100\n",
            "125/125 [==============================] - 2s 13ms/step - loss: 0.0861 - accuracy: 0.9726 - val_loss: 0.5889 - val_accuracy: 0.8744\n",
            "Epoch 65/100\n",
            "125/125 [==============================] - 2s 13ms/step - loss: 0.0843 - accuracy: 0.9731 - val_loss: 0.5955 - val_accuracy: 0.8746\n",
            "Epoch 66/100\n",
            "125/125 [==============================] - 2s 13ms/step - loss: 0.0822 - accuracy: 0.9737 - val_loss: 0.6055 - val_accuracy: 0.8738\n",
            "Epoch 67/100\n",
            "125/125 [==============================] - 2s 13ms/step - loss: 0.0813 - accuracy: 0.9739 - val_loss: 0.6065 - val_accuracy: 0.8743\n",
            "Epoch 68/100\n",
            "125/125 [==============================] - 2s 13ms/step - loss: 0.0792 - accuracy: 0.9746 - val_loss: 0.6133 - val_accuracy: 0.8735\n",
            "Epoch 69/100\n",
            "125/125 [==============================] - 2s 13ms/step - loss: 0.0777 - accuracy: 0.9747 - val_loss: 0.6125 - val_accuracy: 0.8740\n",
            "Epoch 70/100\n",
            "125/125 [==============================] - 2s 13ms/step - loss: 0.0759 - accuracy: 0.9754 - val_loss: 0.6196 - val_accuracy: 0.8737\n",
            "Epoch 71/100\n",
            "125/125 [==============================] - 2s 13ms/step - loss: 0.0748 - accuracy: 0.9756 - val_loss: 0.6183 - val_accuracy: 0.8746\n",
            "Epoch 72/100\n",
            "125/125 [==============================] - 2s 13ms/step - loss: 0.0734 - accuracy: 0.9762 - val_loss: 0.6204 - val_accuracy: 0.8730\n",
            "Epoch 73/100\n",
            "125/125 [==============================] - 2s 13ms/step - loss: 0.0724 - accuracy: 0.9764 - val_loss: 0.6256 - val_accuracy: 0.8740\n",
            "Epoch 74/100\n",
            "125/125 [==============================] - 2s 13ms/step - loss: 0.0706 - accuracy: 0.9770 - val_loss: 0.6314 - val_accuracy: 0.8742\n",
            "Epoch 75/100\n",
            "125/125 [==============================] - 2s 13ms/step - loss: 0.0696 - accuracy: 0.9773 - val_loss: 0.6373 - val_accuracy: 0.8732\n",
            "Epoch 76/100\n",
            "125/125 [==============================] - 2s 13ms/step - loss: 0.0681 - accuracy: 0.9777 - val_loss: 0.6386 - val_accuracy: 0.8731\n",
            "Epoch 77/100\n",
            "125/125 [==============================] - 2s 13ms/step - loss: 0.0669 - accuracy: 0.9781 - val_loss: 0.6442 - val_accuracy: 0.8734\n",
            "Epoch 78/100\n",
            "125/125 [==============================] - 2s 14ms/step - loss: 0.0657 - accuracy: 0.9782 - val_loss: 0.6514 - val_accuracy: 0.8731\n",
            "Epoch 79/100\n",
            "125/125 [==============================] - 2s 13ms/step - loss: 0.0646 - accuracy: 0.9787 - val_loss: 0.6517 - val_accuracy: 0.8736\n",
            "Epoch 80/100\n",
            "125/125 [==============================] - 2s 13ms/step - loss: 0.0637 - accuracy: 0.9788 - val_loss: 0.6550 - val_accuracy: 0.8737\n",
            "Epoch 81/100\n",
            "125/125 [==============================] - 2s 13ms/step - loss: 0.0628 - accuracy: 0.9791 - val_loss: 0.6556 - val_accuracy: 0.8731\n",
            "Epoch 82/100\n",
            "125/125 [==============================] - 2s 13ms/step - loss: 0.0614 - accuracy: 0.9794 - val_loss: 0.6676 - val_accuracy: 0.8726\n",
            "Epoch 83/100\n",
            "125/125 [==============================] - 2s 13ms/step - loss: 0.0602 - accuracy: 0.9799 - val_loss: 0.6674 - val_accuracy: 0.8737\n",
            "Epoch 84/100\n",
            "125/125 [==============================] - 2s 13ms/step - loss: 0.0591 - accuracy: 0.9803 - val_loss: 0.6775 - val_accuracy: 0.8722\n",
            "Epoch 85/100\n",
            "125/125 [==============================] - 2s 14ms/step - loss: 0.0585 - accuracy: 0.9803 - val_loss: 0.6784 - val_accuracy: 0.8719\n",
            "Epoch 86/100\n",
            "125/125 [==============================] - 2s 14ms/step - loss: 0.0575 - accuracy: 0.9807 - val_loss: 0.6770 - val_accuracy: 0.8732\n",
            "Epoch 87/100\n",
            "125/125 [==============================] - 2s 14ms/step - loss: 0.0564 - accuracy: 0.9811 - val_loss: 0.6794 - val_accuracy: 0.8729\n",
            "Epoch 88/100\n",
            "125/125 [==============================] - 2s 13ms/step - loss: 0.0560 - accuracy: 0.9811 - val_loss: 0.6809 - val_accuracy: 0.8730\n",
            "Epoch 89/100\n",
            "125/125 [==============================] - 2s 13ms/step - loss: 0.0551 - accuracy: 0.9812 - val_loss: 0.6824 - val_accuracy: 0.8733\n",
            "Epoch 90/100\n",
            "125/125 [==============================] - 2s 13ms/step - loss: 0.0542 - accuracy: 0.9814 - val_loss: 0.6847 - val_accuracy: 0.8725\n",
            "Epoch 91/100\n",
            "125/125 [==============================] - 2s 13ms/step - loss: 0.0532 - accuracy: 0.9819 - val_loss: 0.6982 - val_accuracy: 0.8717\n",
            "Epoch 92/100\n",
            "125/125 [==============================] - 2s 13ms/step - loss: 0.0523 - accuracy: 0.9820 - val_loss: 0.6930 - val_accuracy: 0.8733\n",
            "Epoch 93/100\n",
            "125/125 [==============================] - 2s 13ms/step - loss: 0.0515 - accuracy: 0.9824 - val_loss: 0.7020 - val_accuracy: 0.8731\n",
            "Epoch 94/100\n",
            "125/125 [==============================] - 2s 13ms/step - loss: 0.0506 - accuracy: 0.9826 - val_loss: 0.6968 - val_accuracy: 0.8730\n",
            "Epoch 95/100\n",
            "125/125 [==============================] - 2s 13ms/step - loss: 0.0500 - accuracy: 0.9829 - val_loss: 0.7116 - val_accuracy: 0.8729\n",
            "Epoch 96/100\n",
            "125/125 [==============================] - 2s 13ms/step - loss: 0.0494 - accuracy: 0.9829 - val_loss: 0.7079 - val_accuracy: 0.8718\n",
            "Epoch 97/100\n",
            "125/125 [==============================] - 2s 13ms/step - loss: 0.0486 - accuracy: 0.9831 - val_loss: 0.7097 - val_accuracy: 0.8717\n",
            "Epoch 98/100\n",
            "125/125 [==============================] - 2s 13ms/step - loss: 0.0478 - accuracy: 0.9832 - val_loss: 0.7160 - val_accuracy: 0.8732\n",
            "Epoch 99/100\n",
            "125/125 [==============================] - 2s 13ms/step - loss: 0.0473 - accuracy: 0.9835 - val_loss: 0.7169 - val_accuracy: 0.8723\n",
            "Epoch 100/100\n",
            "125/125 [==============================] - 2s 13ms/step - loss: 0.0469 - accuracy: 0.9836 - val_loss: 0.7175 - val_accuracy: 0.8732\n",
            "WARNING:tensorflow:From /usr/local/lib/python3.6/dist-packages/tensorflow/python/ops/resource_variable_ops.py:1817: calling BaseResourceVariable.__init__ (from tensorflow.python.ops.resource_variable_ops) with constraint is deprecated and will be removed in a future version.\n",
            "Instructions for updating:\n",
            "If using Keras pass *_constraint arguments to layers.\n",
            "INFO:tensorflow:Assets written to: s2s/assets\n"
          ],
          "name": "stdout"
        }
      ]
    },
    {
      "cell_type": "code",
      "metadata": {
        "id": "QaCYjtUW-jMe",
        "colab_type": "code",
        "colab": {
          "base_uri": "https://localhost:8080/",
          "height": 122
        },
        "outputId": "b1deaed3-9a9d-46d8-9c91-e63236f9682c"
      },
      "source": [
        "from google.colab import drive\n",
        "drive.mount('/content/drive')"
      ],
      "execution_count": 23,
      "outputs": [
        {
          "output_type": "stream",
          "text": [
            "Go to this URL in a browser: https://accounts.google.com/o/oauth2/auth?client_id=947318989803-6bn6qk8qdgf4n4g3pfee6491hc0brc4i.apps.googleusercontent.com&redirect_uri=urn%3aietf%3awg%3aoauth%3a2.0%3aoob&response_type=code&scope=email%20https%3a%2f%2fwww.googleapis.com%2fauth%2fdocs.test%20https%3a%2f%2fwww.googleapis.com%2fauth%2fdrive%20https%3a%2f%2fwww.googleapis.com%2fauth%2fdrive.photos.readonly%20https%3a%2f%2fwww.googleapis.com%2fauth%2fpeopleapi.readonly\n",
            "\n",
            "Enter your authorization code:\n",
            "··········\n",
            "Mounted at /content/drive\n"
          ],
          "name": "stdout"
        }
      ]
    },
    {
      "cell_type": "code",
      "metadata": {
        "id": "L_gimoqcDhlz",
        "colab_type": "code",
        "colab": {
          "base_uri": "https://localhost:8080/",
          "height": 102
        },
        "outputId": "ff603294-9e89-417d-cdcb-62e725aa4830"
      },
      "source": [
        "model.layers"
      ],
      "execution_count": 21,
      "outputs": [
        {
          "output_type": "execute_result",
          "data": {
            "text/plain": [
              "[<tensorflow.python.keras.engine.input_layer.InputLayer at 0x7f4c6af7fbe0>,\n",
              " <tensorflow.python.keras.engine.input_layer.InputLayer at 0x7f4c6b3c6c88>,\n",
              " <tensorflow.python.keras.layers.recurrent_v2.LSTM at 0x7f4c6af84588>,\n",
              " <tensorflow.python.keras.layers.recurrent_v2.LSTM at 0x7f4c6af7c438>,\n",
              " <tensorflow.python.keras.layers.core.Dense at 0x7f4c6a958390>]"
            ]
          },
          "metadata": {
            "tags": []
          },
          "execution_count": 21
        }
      ]
    },
    {
      "cell_type": "markdown",
      "metadata": {
        "colab_type": "text",
        "id": "1cfca__61LV4"
      },
      "source": [
        "## Run inference (sampling)\n",
        "\n",
        "1. encode input and retrieve initial decoder state\n",
        "2. run one step of decoder with this initial state\n",
        "and a \"start of sequence\" token as target.\n",
        "Output will be the next target token.\n",
        "3. Repeat with the current target token and current states\n"
      ]
    },
    {
      "cell_type": "code",
      "metadata": {
        "colab_type": "code",
        "id": "oYwTco9x1LV5",
        "colab": {}
      },
      "source": [
        "# Define sampling models\n",
        "# Restore the model and construct the encoder and decoder.\n",
        "model = keras.models.load_model(\"s2s\")\n",
        "\n",
        "encoder_inputs = model.input[0]  # input_1\n",
        "encoder_outputs, state_h_enc, state_c_enc = model.layers[2].output  # lstm_1\n",
        "encoder_states = [state_h_enc, state_c_enc]\n",
        "# lcx: why can we just assemble keras model in this way, the \"encoder_states\" is\n",
        "# the outputs of the model?\n",
        "encoder_model = keras.Model(encoder_inputs, encoder_states)\n",
        "\n",
        "decoder_inputs = model.input[1]  # input_2\n",
        "decoder_state_input_h = keras.Input(shape=(latent_dim,), name=\"input_3\")\n",
        "decoder_state_input_c = keras.Input(shape=(latent_dim,), name=\"input_4\")\n",
        "decoder_states_inputs = [decoder_state_input_h, decoder_state_input_c]\n",
        "decoder_lstm = model.layers[3]\n",
        "decoder_outputs, state_h_dec, state_c_dec = decoder_lstm(\n",
        "    decoder_inputs, initial_state=decoder_states_inputs\n",
        ")\n",
        "decoder_states = [state_h_dec, state_c_dec]\n",
        "decoder_dense = model.layers[4]\n",
        "decoder_outputs = decoder_dense(decoder_outputs)\n",
        "decoder_model = keras.Model(\n",
        "    [decoder_inputs] + decoder_states_inputs, [decoder_outputs] + decoder_states\n",
        ")\n",
        "\n",
        "# Reverse-lookup token index to decode sequences back to\n",
        "# something readable.\n",
        "reverse_input_char_index = dict((i, char) for char, i in input_token_index.items())\n",
        "reverse_target_char_index = dict((i, char) for char, i in target_token_index.items())\n",
        "\n",
        "\n",
        "def decode_sequence(input_seq):\n",
        "    # Encode the input as state vectors.\n",
        "    states_value = encoder_model.predict(input_seq)\n",
        "\n",
        "    # Generate empty target sequence of length 1.\n",
        "    target_seq = np.zeros((1, 1, num_decoder_tokens))\n",
        "    # Populate the first character of target sequence with the start character.\n",
        "    target_seq[0, 0, target_token_index[\"\\t\"]] = 1.0\n",
        "\n",
        "    # Sampling loop for a batch of sequences\n",
        "    # (to simplify, here we assume a batch of size 1).\n",
        "    stop_condition = False\n",
        "    decoded_sentence = \"\"\n",
        "    while not stop_condition:\n",
        "        output_tokens, h, c = decoder_model.predict([target_seq] + states_value)\n",
        "\n",
        "        # Sample a token\n",
        "        # lcx: why \"-1\" for output_tokens[0, -1, :]\n",
        "        sampled_token_index = np.argmax(output_tokens[0, -1, :])\n",
        "        sampled_char = reverse_target_char_index[sampled_token_index]\n",
        "        decoded_sentence += sampled_char\n",
        "\n",
        "        # Exit condition: either hit max length\n",
        "        # or find stop character.\n",
        "        if sampled_char == \"\\n\" or len(decoded_sentence) > max_decoder_seq_length:\n",
        "            stop_condition = True\n",
        "\n",
        "        # Update the target sequence (of length 1).\n",
        "        target_seq = np.zeros((1, 1, num_decoder_tokens))\n",
        "        target_seq[0, 0, sampled_token_index] = 1.0\n",
        "\n",
        "        # Update states\n",
        "        states_value = [h, c]\n",
        "    return decoded_sentence\n",
        "\n"
      ],
      "execution_count": 0,
      "outputs": []
    },
    {
      "cell_type": "markdown",
      "metadata": {
        "colab_type": "text",
        "id": "HxPDduI91LV7"
      },
      "source": [
        "You can now generate decoded sentences as such:\n"
      ]
    },
    {
      "cell_type": "code",
      "metadata": {
        "colab_type": "code",
        "id": "CUQIIHDm1LV8",
        "colab": {
          "base_uri": "https://localhost:8080/",
          "height": 1000
        },
        "outputId": "3bc8617b-62cf-437a-85d8-7477b09dd87d"
      },
      "source": [
        "for seq_index in range(20):\n",
        "    # Take one sequence (part of the training set)\n",
        "    # for trying out decoding.\n",
        "    input_seq = encoder_input_data[seq_index : seq_index + 1]\n",
        "    decoded_sentence = decode_sequence(input_seq)\n",
        "    print(\"-\")\n",
        "    print(\"Input sentence:\", input_texts[seq_index])\n",
        "    print(\"Decoded sentence:\", decoded_sentence)\n"
      ],
      "execution_count": 22,
      "outputs": [
        {
          "output_type": "stream",
          "text": [
            "-\n",
            "Input sentence: Go.\n",
            "Decoded sentence: Va !\n",
            "\n",
            "-\n",
            "Input sentence: Hi.\n",
            "Decoded sentence: Salut.\n",
            "\n",
            "-\n",
            "Input sentence: Hi.\n",
            "Decoded sentence: Salut.\n",
            "\n",
            "-\n",
            "Input sentence: Run!\n",
            "Decoded sentence: Courez !\n",
            "\n",
            "-\n",
            "Input sentence: Run!\n",
            "Decoded sentence: Courez !\n",
            "\n",
            "-\n",
            "Input sentence: Who?\n",
            "Decoded sentence: Qui est-ce ?\n",
            "\n",
            "-\n",
            "Input sentence: Wow!\n",
            "Decoded sentence: Ça alors !\n",
            "\n",
            "-\n",
            "Input sentence: Fire!\n",
            "Decoded sentence: Au feu !\n",
            "\n",
            "-\n",
            "Input sentence: Help!\n",
            "Decoded sentence: À l'aide !\n",
            "\n",
            "-\n",
            "Input sentence: Jump.\n",
            "Decoded sentence: Saute.\n",
            "\n",
            "-\n",
            "Input sentence: Stop!\n",
            "Decoded sentence: Arrête-toi !\n",
            "\n",
            "-\n",
            "Input sentence: Stop!\n",
            "Decoded sentence: Arrête-toi !\n",
            "\n",
            "-\n",
            "Input sentence: Stop!\n",
            "Decoded sentence: Arrête-toi !\n",
            "\n",
            "-\n",
            "Input sentence: Wait!\n",
            "Decoded sentence: Attendez !\n",
            "\n",
            "-\n",
            "Input sentence: Wait!\n",
            "Decoded sentence: Attendez !\n",
            "\n",
            "-\n",
            "Input sentence: Go on.\n",
            "Decoded sentence: Poursuivez.\n",
            "\n",
            "-\n",
            "Input sentence: Go on.\n",
            "Decoded sentence: Poursuivez.\n",
            "\n",
            "-\n",
            "Input sentence: Go on.\n",
            "Decoded sentence: Poursuivez.\n",
            "\n",
            "-\n",
            "Input sentence: Hello!\n",
            "Decoded sentence: Salut !\n",
            "\n",
            "-\n",
            "Input sentence: Hello!\n",
            "Decoded sentence: Salut !\n",
            "\n"
          ],
          "name": "stdout"
        }
      ]
    },
    {
      "cell_type": "code",
      "metadata": {
        "id": "9LlvtJ6VEwF3",
        "colab_type": "code",
        "colab": {}
      },
      "source": [
        ""
      ],
      "execution_count": 0,
      "outputs": []
    }
  ]
}